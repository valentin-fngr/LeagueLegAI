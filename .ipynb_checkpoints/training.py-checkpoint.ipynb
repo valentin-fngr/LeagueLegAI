{
 "cells": [
  {
   "cell_type": "code",
   "execution_count": 1,
   "metadata": {},
   "outputs": [],
   "source": [
    "import pandas as pd\n",
    "import numpy as np"
   ]
  },
  {
   "cell_type": "code",
   "execution_count": 8,
   "metadata": {},
   "outputs": [
    {
     "name": "stdout",
     "output_type": "stream",
     "text": [
      "       gameId plateformId  gameDuration  seasonId gameMode  participantId_x1  \\\n",
      "0  5198336909        EUW1          1872        13  CLASSIC                 1   \n",
      "\n",
      "                               matchHistoryUri_x1  championId_x1  \\\n",
      "0  /v1/stats/player_history/EUW1/2310019333321216             17   \n",
      "\n",
      "  championName_x1  kills_x1  ...  turretKils_y5  totalMinionsKilled_y5  \\\n",
      "0           Teemo         6  ...          False                      1   \n",
      "\n",
      "   totalMinionsKilled_y5.1  champLevel_y5  is_winner_y  teamId_y  \\\n",
      "0                      NaN            NaN          NaN       NaN   \n",
      "\n",
      "   firstBlood_y  firstTower_y  firstBaron_y firstDragon_y  \n",
      "0           NaN           NaN           NaN           NaN  \n",
      "\n",
      "[1 rows x 157 columns]\n"
     ]
    }
   ],
   "source": [
    "# dataset path \n",
    "df = pd.read_csv(\"dataset.csv\")\n",
    "df.head(1)"
   ]
  },
  {
   "cell_type": "code",
   "execution_count": null,
   "metadata": {},
   "outputs": [],
   "source": []
  }
 ],
 "metadata": {
  "kernelspec": {
   "display_name": "Python 3",
   "language": "python",
   "name": "python3"
  },
  "language_info": {
   "codemirror_mode": {
    "name": "ipython",
    "version": 3
   },
   "file_extension": ".py",
   "mimetype": "text/x-python",
   "name": "python",
   "nbconvert_exporter": "python",
   "pygments_lexer": "ipython3",
   "version": "3.7.4"
  }
 },
 "nbformat": 4,
 "nbformat_minor": 2
}
